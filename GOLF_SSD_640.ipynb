{
  "cells": [
    {
      "cell_type": "code",
      "execution_count": null,
      "metadata": {
        "id": "baOlXagy99Qg"
      },
      "outputs": [],
      "source": [
        "import os\n",
        "import glob\n",
        "import xml.etree.ElementTree as ET\n",
        "import pandas as pd\n",
        "import tensorflow as tf"
      ]
    },
    {
      "cell_type": "code",
      "execution_count": null,
      "metadata": {
        "colab": {
          "base_uri": "https://localhost:8080/"
        },
        "id": "Wh4Sknqy-DlL",
        "outputId": "aace8911-34e7-4713-e95a-8a613f94a4d5"
      },
      "outputs": [
        {
          "output_type": "stream",
          "name": "stdout",
          "text": [
            "Mounted at /content/drive\n"
          ]
        }
      ],
      "source": [
        "#mount drive\n",
        "from google.colab import drive\n",
        "drive.mount('/content/drive')\n"
      ]
    },
    {
      "cell_type": "code",
      "source": [
        "# In order for GPU to work, we must run this code\n",
        "import shutil\n",
        "import re\n",
        "\n",
        "original_path = '/usr/local/lib/python3.10/dist-packages/tf_slim/data/tfexample_decoder.py'\n",
        "with open(original_path, 'r') as file:\n",
        "  content = file.read()\n",
        "  content = re.sub(r'import abc', 'import tensorflow as tf\\n\\nimport abc', content)\n",
        "  content = re.sub(r'control_flow_ops.case', 'tf.case', content)\n",
        "  content = re.sub(r'control_flow_ops.cond', 'tf.compat.v1.cond', content)\n",
        "  with open(original_path, 'w') as file:\n",
        "    file.write(content)\n",
        "\n",
        "print(f\"File {original_path} fixed.\")"
      ],
      "metadata": {
        "colab": {
          "base_uri": "https://localhost:8080/"
        },
        "id": "sxyOxbjyQ7Tr",
        "outputId": "b511fd75-786d-4935-cb6b-09d343c302bb"
      },
      "execution_count": null,
      "outputs": [
        {
          "output_type": "stream",
          "name": "stdout",
          "text": [
            "File /usr/local/lib/python3.10/dist-packages/tf_slim/data/tfexample_decoder.py fixed.\n"
          ]
        }
      ]
    },
    {
      "cell_type": "code",
      "source": [
        "!pip install --upgrade tensorflow"
      ],
      "metadata": {
        "id": "RTvrXvYFP1yR"
      },
      "execution_count": null,
      "outputs": []
    },
    {
      "cell_type": "code",
      "execution_count": null,
      "metadata": {
        "id": "P7yVibsJ_Zwz"
      },
      "outputs": [],
      "source": [
        "# clone the tensorflow models on the colab cloud vm\n",
        "!git clone --q https://github.com/tensorflow/models.git\n",
        "# navigate to /models/research folder to compile protos\n",
        "%cd models/research\n",
        "# Compile protos.\n",
        "!protoc object_detection/protos/*.proto --python_out=.\n",
        "# Install TensorFlow Object Detection API.\n",
        "!cp object_detection/packages/tf2/setup.py .\n",
        "!python -m pip install ."
      ]
    },
    {
      "cell_type": "code",
      "execution_count": null,
      "metadata": {
        "id": "IsTjOhKHAA6r"
      },
      "outputs": [],
      "source": [
        "# test the model builder\n",
        "!python object_detection/builders/model_builder_tf2_test.py"
      ]
    },
    {
      "cell_type": "code",
      "execution_count": null,
      "metadata": {
        "colab": {
          "base_uri": "https://localhost:8080/"
        },
        "id": "Av6QIiefdb3L",
        "outputId": "7936c46e-4da0-4175-dd02-0c89b837b99c"
      },
      "outputs": [
        {
          "output_type": "stream",
          "name": "stdout",
          "text": [
            "/content/models\n",
            "/content\n"
          ]
        }
      ],
      "source": [
        "# run this to go back to home directory\n",
        "%cd ..\n",
        "%cd .."
      ]
    },
    {
      "cell_type": "code",
      "execution_count": null,
      "metadata": {
        "id": "KLF3kl4HAGtp"
      },
      "outputs": [],
      "source": [
        "# We are using the model SSD MobileNet v2 640x640 this downloads and extracts it to root directory, for ease of access\n",
        "!wget http://download.tensorflow.org/models/object_detection/tf2/20200711/ssd_mobilenet_v2_fpnlite_640x640_coco17_tpu-8.tar.gz\n",
        "\n",
        "!tar -xzvf ssd_mobilenet_v2_fpnlite_640x640_coco17_tpu-8.tar.gz"
      ]
    },
    {
      "cell_type": "code",
      "execution_count": null,
      "metadata": {
        "colab": {
          "base_uri": "https://localhost:8080/"
        },
        "id": "wtItFVVVTF7K",
        "outputId": "50a907d8-2a12-4194-a26a-956e1363eed5"
      },
      "outputs": [
        {
          "output_type": "stream",
          "name": "stdout",
          "text": [
            "unzip:  cannot find or open /content/drive/MyDrive/Models/pretraining-data.v2i.tfrecord.zip, /content/drive/MyDrive/Models/pretraining-data.v2i.tfrecord.zip.zip or /content/drive/MyDrive/Models/pretraining-data.v2i.tfrecord.zip.ZIP.\n"
          ]
        }
      ],
      "source": [
        "# unzip the training data, if using large roboflow dataset\n",
        "!unzip \"/content/drive/MyDrive/Models/pretraining-data.v2i.tfrecord.zip\""
      ]
    },
    {
      "cell_type": "markdown",
      "metadata": {
        "id": "QYRS7qPAlzxd"
      },
      "source": [
        "# Train the Model"
      ]
    },
    {
      "cell_type": "code",
      "execution_count": null,
      "metadata": {
        "colab": {
          "base_uri": "https://localhost:8080/"
        },
        "id": "3rqbugCgl3l8",
        "outputId": "64cff522-2f29-4cfe-e87c-e674f4c0cb89"
      },
      "outputs": [
        {
          "output_type": "stream",
          "name": "stdout",
          "text": [
            "/content/models/research/object_detection\n"
          ]
        }
      ],
      "source": [
        "# Navigate to object_detection\n",
        "%cd /content/models/research/object_detection"
      ]
    },
    {
      "cell_type": "code",
      "execution_count": null,
      "metadata": {
        "colab": {
          "base_uri": "https://localhost:8080/"
        },
        "id": "1gCwhJk5r5sm",
        "outputId": "4d37294b-1cfa-4cf9-8131-ecc950eb49bc"
      },
      "outputs": [
        {
          "output_type": "stream",
          "name": "stdout",
          "text": [
            "8\n"
          ]
        }
      ],
      "source": [
        "import os\n",
        "num_cpu_cores = os.cpu_count()\n",
        "print(num_cpu_cores)"
      ]
    },
    {
      "cell_type": "code",
      "source": [
        "with tf.device('/GPU:0'):\n",
        "  print(\"Is GPU available:\", tf.test.is_gpu_available())\n"
      ],
      "metadata": {
        "colab": {
          "base_uri": "https://localhost:8080/"
        },
        "id": "SZmD-ONANgS0",
        "outputId": "d02bff9c-7f58-4331-87ca-89719735e0a5"
      },
      "execution_count": null,
      "outputs": [
        {
          "output_type": "stream",
          "name": "stderr",
          "text": [
            "WARNING:tensorflow:From <ipython-input-10-4a9f25e4921d>:2: is_gpu_available (from tensorflow.python.framework.test_util) is deprecated and will be removed in a future version.\n",
            "Instructions for updating:\n",
            "Use `tf.config.list_physical_devices('GPU')` instead.\n"
          ]
        },
        {
          "output_type": "stream",
          "name": "stdout",
          "text": [
            "Is GPU available: True\n"
          ]
        }
      ]
    },
    {
      "cell_type": "code",
      "source": [],
      "metadata": {
        "id": "RNF8FImsPnoK"
      },
      "execution_count": null,
      "outputs": []
    },
    {
      "cell_type": "code",
      "execution_count": null,
      "metadata": {
        "colab": {
          "base_uri": "https://localhost:8080/"
        },
        "id": "RwHQ7a_5l8Lm",
        "outputId": "7e32a17a-59ed-478b-d555-b312d1bb5fec"
      },
      "outputs": [
        {
          "output_type": "stream",
          "name": "stdout",
          "text": [
            "2024-01-28 00:52:56.251149: E external/local_xla/xla/stream_executor/cuda/cuda_dnn.cc:9261] Unable to register cuDNN factory: Attempting to register factory for plugin cuDNN when one has already been registered\n",
            "2024-01-28 00:52:56.251199: E external/local_xla/xla/stream_executor/cuda/cuda_fft.cc:607] Unable to register cuFFT factory: Attempting to register factory for plugin cuFFT when one has already been registered\n",
            "2024-01-28 00:52:56.252393: E external/local_xla/xla/stream_executor/cuda/cuda_blas.cc:1515] Unable to register cuBLAS factory: Attempting to register factory for plugin cuBLAS when one has already been registered\n",
            "2024-01-28 00:52:57.197897: W tensorflow/compiler/tf2tensorrt/utils/py_utils.cc:38] TF-TRT Warning: Could not find TensorRT\n",
            "2024-01-28 00:52:59.687758: W tensorflow/core/common_runtime/gpu/gpu_bfc_allocator.cc:47] Overriding orig_value setting because the TF_FORCE_GPU_ALLOW_GROWTH environment variable is set. Original config value was 0.\n",
            "INFO:tensorflow:Using MirroredStrategy with devices ('/job:localhost/replica:0/task:0/device:GPU:0',)\n",
            "I0128 00:52:59.689206 131938155827840 mirrored_strategy.py:423] Using MirroredStrategy with devices ('/job:localhost/replica:0/task:0/device:GPU:0',)\n",
            "INFO:tensorflow:Maybe overwriting train_steps: None\n",
            "I0128 00:52:59.713231 131938155827840 config_util.py:552] Maybe overwriting train_steps: None\n",
            "INFO:tensorflow:Maybe overwriting use_bfloat16: False\n",
            "I0128 00:52:59.713395 131938155827840 config_util.py:552] Maybe overwriting use_bfloat16: False\n",
            "WARNING:tensorflow:From /usr/local/lib/python3.10/dist-packages/object_detection/model_lib_v2.py:563: StrategyBase.experimental_distribute_datasets_from_function (from tensorflow.python.distribute.distribute_lib) is deprecated and will be removed in a future version.\n",
            "Instructions for updating:\n",
            "rename to distribute_datasets_from_function\n",
            "W0128 00:52:59.741366 131938155827840 deprecation.py:50] From /usr/local/lib/python3.10/dist-packages/object_detection/model_lib_v2.py:563: StrategyBase.experimental_distribute_datasets_from_function (from tensorflow.python.distribute.distribute_lib) is deprecated and will be removed in a future version.\n",
            "Instructions for updating:\n",
            "rename to distribute_datasets_from_function\n",
            "INFO:tensorflow:Reading unweighted datasets: ['/content/drive/MyDrive/Models/training-data/screengrabs-batch2-labeled/default.tfrecord']\n",
            "I0128 00:52:59.757192 131938155827840 dataset_builder.py:162] Reading unweighted datasets: ['/content/drive/MyDrive/Models/training-data/screengrabs-batch2-labeled/default.tfrecord']\n",
            "INFO:tensorflow:Reading record datasets for input file: ['/content/drive/MyDrive/Models/training-data/screengrabs-batch2-labeled/default.tfrecord']\n",
            "I0128 00:52:59.757705 131938155827840 dataset_builder.py:79] Reading record datasets for input file: ['/content/drive/MyDrive/Models/training-data/screengrabs-batch2-labeled/default.tfrecord']\n",
            "INFO:tensorflow:Number of filenames to read: 1\n",
            "I0128 00:52:59.757822 131938155827840 dataset_builder.py:80] Number of filenames to read: 1\n",
            "WARNING:tensorflow:num_readers has been reduced to 1 to match input file shards.\n",
            "W0128 00:52:59.757885 131938155827840 dataset_builder.py:86] num_readers has been reduced to 1 to match input file shards.\n",
            "WARNING:tensorflow:From /usr/local/lib/python3.10/dist-packages/object_detection/builders/dataset_builder.py:100: parallel_interleave (from tensorflow.python.data.experimental.ops.interleave_ops) is deprecated and will be removed in a future version.\n",
            "Instructions for updating:\n",
            "Use `tf.data.Dataset.interleave(map_func, cycle_length, block_length, num_parallel_calls=tf.data.AUTOTUNE)` instead. If sloppy execution is desired, use `tf.data.Options.deterministic`.\n",
            "W0128 00:52:59.764442 131938155827840 deprecation.py:50] From /usr/local/lib/python3.10/dist-packages/object_detection/builders/dataset_builder.py:100: parallel_interleave (from tensorflow.python.data.experimental.ops.interleave_ops) is deprecated and will be removed in a future version.\n",
            "Instructions for updating:\n",
            "Use `tf.data.Dataset.interleave(map_func, cycle_length, block_length, num_parallel_calls=tf.data.AUTOTUNE)` instead. If sloppy execution is desired, use `tf.data.Options.deterministic`.\n",
            "WARNING:tensorflow:From /usr/local/lib/python3.10/dist-packages/object_detection/builders/dataset_builder.py:235: DatasetV1.map_with_legacy_function (from tensorflow.python.data.ops.dataset_ops) is deprecated and will be removed in a future version.\n",
            "Instructions for updating:\n",
            "Use `tf.data.Dataset.map()\n",
            "W0128 00:52:59.783718 131938155827840 deprecation.py:50] From /usr/local/lib/python3.10/dist-packages/object_detection/builders/dataset_builder.py:235: DatasetV1.map_with_legacy_function (from tensorflow.python.data.ops.dataset_ops) is deprecated and will be removed in a future version.\n",
            "Instructions for updating:\n",
            "Use `tf.data.Dataset.map()\n",
            "WARNING:tensorflow:From /usr/local/lib/python3.10/dist-packages/tensorflow/python/util/dispatch.py:1260: sparse_to_dense (from tensorflow.python.ops.sparse_ops) is deprecated and will be removed in a future version.\n",
            "Instructions for updating:\n",
            "Create a `tf.sparse.SparseTensor` and use `tf.sparse.to_dense` instead.\n",
            "W0128 00:53:05.585444 131938155827840 deprecation.py:50] From /usr/local/lib/python3.10/dist-packages/tensorflow/python/util/dispatch.py:1260: sparse_to_dense (from tensorflow.python.ops.sparse_ops) is deprecated and will be removed in a future version.\n",
            "Instructions for updating:\n",
            "Create a `tf.sparse.SparseTensor` and use `tf.sparse.to_dense` instead.\n",
            "WARNING:tensorflow:From /usr/local/lib/python3.10/dist-packages/tensorflow/python/util/dispatch.py:1260: sample_distorted_bounding_box (from tensorflow.python.ops.image_ops_impl) is deprecated and will be removed in a future version.\n",
            "Instructions for updating:\n",
            "`seed2` arg is deprecated.Use sample_distorted_bounding_box_v2 instead.\n",
            "W0128 00:53:08.174670 131938155827840 deprecation.py:50] From /usr/local/lib/python3.10/dist-packages/tensorflow/python/util/dispatch.py:1260: sample_distorted_bounding_box (from tensorflow.python.ops.image_ops_impl) is deprecated and will be removed in a future version.\n",
            "Instructions for updating:\n",
            "`seed2` arg is deprecated.Use sample_distorted_bounding_box_v2 instead.\n",
            "WARNING:tensorflow:From /usr/local/lib/python3.10/dist-packages/tensorflow/python/util/dispatch.py:1260: to_float (from tensorflow.python.ops.math_ops) is deprecated and will be removed in a future version.\n",
            "Instructions for updating:\n",
            "Use `tf.cast` instead.\n",
            "W0128 00:53:09.603988 131938155827840 deprecation.py:50] From /usr/local/lib/python3.10/dist-packages/tensorflow/python/util/dispatch.py:1260: to_float (from tensorflow.python.ops.math_ops) is deprecated and will be removed in a future version.\n",
            "Instructions for updating:\n",
            "Use `tf.cast` instead.\n",
            "/usr/local/lib/python3.10/dist-packages/keras/src/backend.py:452: UserWarning: `tf.keras.backend.set_learning_phase` is deprecated and will be removed after 2020-10-11. To update it, simply pass a True/False value to the `training` argument of the `__call__` method of your layer or model.\n",
            "  warnings.warn(\n",
            "I0128 00:53:17.369110 131931505149504 api.py:460] feature_map_spatial_dims: [(80, 80), (40, 40), (20, 20), (10, 10), (5, 5)]\n",
            "I0128 00:53:25.555028 131931505149504 api.py:460] feature_map_spatial_dims: [(80, 80), (40, 40), (20, 20), (10, 10), (5, 5)]\n",
            "I0128 00:53:37.416662 131930993456704 api.py:460] feature_map_spatial_dims: [(80, 80), (40, 40), (20, 20), (10, 10), (5, 5)]\n",
            "I0128 00:53:43.308514 131930993456704 api.py:460] feature_map_spatial_dims: [(80, 80), (40, 40), (20, 20), (10, 10), (5, 5)]\n",
            "I0128 00:53:48.554419 131930993456704 api.py:460] feature_map_spatial_dims: [(80, 80), (40, 40), (20, 20), (10, 10), (5, 5)]\n",
            "I0128 00:53:54.464204 131930993456704 api.py:460] feature_map_spatial_dims: [(80, 80), (40, 40), (20, 20), (10, 10), (5, 5)]\n",
            "INFO:tensorflow:Step 25100 per-step time 0.549s\n",
            "I0128 00:54:31.077442 131938155827840 model_lib_v2.py:705] Step 25100 per-step time 0.549s\n",
            "INFO:tensorflow:{'Loss/classification_loss': 0.14203341,\n",
            " 'Loss/localization_loss': 0.08249765,\n",
            " 'Loss/regularization_loss': 0.122507825,\n",
            " 'Loss/total_loss': 0.3470389,\n",
            " 'learning_rate': 0.041025713}\n",
            "I0128 00:54:31.077749 131938155827840 model_lib_v2.py:708] {'Loss/classification_loss': 0.14203341,\n",
            " 'Loss/localization_loss': 0.08249765,\n",
            " 'Loss/regularization_loss': 0.122507825,\n",
            " 'Loss/total_loss': 0.3470389,\n",
            " 'learning_rate': 0.041025713}\n",
            "INFO:tensorflow:Step 25200 per-step time 0.213s\n",
            "I0128 00:54:52.354749 131938155827840 model_lib_v2.py:705] Step 25200 per-step time 0.213s\n",
            "INFO:tensorflow:{'Loss/classification_loss': 0.13356183,\n",
            " 'Loss/localization_loss': 0.09460083,\n",
            " 'Loss/regularization_loss': 0.12222594,\n",
            " 'Loss/total_loss': 0.35038862,\n",
            " 'learning_rate': 0.04076932}\n",
            "I0128 00:54:52.355018 131938155827840 model_lib_v2.py:708] {'Loss/classification_loss': 0.13356183,\n",
            " 'Loss/localization_loss': 0.09460083,\n",
            " 'Loss/regularization_loss': 0.12222594,\n",
            " 'Loss/total_loss': 0.35038862,\n",
            " 'learning_rate': 0.04076932}\n",
            "INFO:tensorflow:Step 25300 per-step time 0.213s\n",
            "I0128 00:55:13.635629 131938155827840 model_lib_v2.py:705] Step 25300 per-step time 0.213s\n",
            "INFO:tensorflow:{'Loss/classification_loss': 0.08037286,\n",
            " 'Loss/localization_loss': 0.03224847,\n",
            " 'Loss/regularization_loss': 0.12191703,\n",
            " 'Loss/total_loss': 0.23453836,\n",
            " 'learning_rate': 0.0405129}\n",
            "I0128 00:55:13.635899 131938155827840 model_lib_v2.py:708] {'Loss/classification_loss': 0.08037286,\n",
            " 'Loss/localization_loss': 0.03224847,\n",
            " 'Loss/regularization_loss': 0.12191703,\n",
            " 'Loss/total_loss': 0.23453836,\n",
            " 'learning_rate': 0.0405129}\n",
            "INFO:tensorflow:Step 25400 per-step time 0.214s\n",
            "I0128 00:55:35.036241 131938155827840 model_lib_v2.py:705] Step 25400 per-step time 0.214s\n",
            "INFO:tensorflow:{'Loss/classification_loss': 0.092559025,\n",
            " 'Loss/localization_loss': 0.10191828,\n",
            " 'Loss/regularization_loss': 0.12159608,\n",
            " 'Loss/total_loss': 0.3160734,\n",
            " 'learning_rate': 0.04025645}\n",
            "I0128 00:55:35.036569 131938155827840 model_lib_v2.py:708] {'Loss/classification_loss': 0.092559025,\n",
            " 'Loss/localization_loss': 0.10191828,\n",
            " 'Loss/regularization_loss': 0.12159608,\n",
            " 'Loss/total_loss': 0.3160734,\n",
            " 'learning_rate': 0.04025645}\n",
            "INFO:tensorflow:Step 25500 per-step time 0.213s\n",
            "I0128 00:55:56.292604 131938155827840 model_lib_v2.py:705] Step 25500 per-step time 0.213s\n",
            "INFO:tensorflow:{'Loss/classification_loss': 0.07297225,\n",
            " 'Loss/localization_loss': 0.029467601,\n",
            " 'Loss/regularization_loss': 0.121261835,\n",
            " 'Loss/total_loss': 0.22370169,\n",
            " 'learning_rate': 0.039999995}\n",
            "I0128 00:55:56.292872 131938155827840 model_lib_v2.py:708] {'Loss/classification_loss': 0.07297225,\n",
            " 'Loss/localization_loss': 0.029467601,\n",
            " 'Loss/regularization_loss': 0.121261835,\n",
            " 'Loss/total_loss': 0.22370169,\n",
            " 'learning_rate': 0.039999995}\n",
            "INFO:tensorflow:Step 25600 per-step time 0.213s\n",
            "I0128 00:56:17.554957 131938155827840 model_lib_v2.py:705] Step 25600 per-step time 0.213s\n",
            "INFO:tensorflow:{'Loss/classification_loss': 0.05880998,\n",
            " 'Loss/localization_loss': 0.03331651,\n",
            " 'Loss/regularization_loss': 0.12095785,\n",
            " 'Loss/total_loss': 0.21308434,\n",
            " 'learning_rate': 0.039743543}\n",
            "I0128 00:56:17.555224 131938155827840 model_lib_v2.py:708] {'Loss/classification_loss': 0.05880998,\n",
            " 'Loss/localization_loss': 0.03331651,\n",
            " 'Loss/regularization_loss': 0.12095785,\n",
            " 'Loss/total_loss': 0.21308434,\n",
            " 'learning_rate': 0.039743543}\n",
            "INFO:tensorflow:Step 25700 per-step time 0.213s\n",
            "I0128 00:56:38.851731 131938155827840 model_lib_v2.py:705] Step 25700 per-step time 0.213s\n",
            "INFO:tensorflow:{'Loss/classification_loss': 0.07936135,\n",
            " 'Loss/localization_loss': 0.04308139,\n",
            " 'Loss/regularization_loss': 0.12062442,\n",
            " 'Loss/total_loss': 0.24306716,\n",
            " 'learning_rate': 0.039487097}\n",
            "I0128 00:56:38.851993 131938155827840 model_lib_v2.py:708] {'Loss/classification_loss': 0.07936135,\n",
            " 'Loss/localization_loss': 0.04308139,\n",
            " 'Loss/regularization_loss': 0.12062442,\n",
            " 'Loss/total_loss': 0.24306716,\n",
            " 'learning_rate': 0.039487097}\n",
            "INFO:tensorflow:Step 25800 per-step time 0.213s\n",
            "I0128 00:57:00.166258 131938155827840 model_lib_v2.py:705] Step 25800 per-step time 0.213s\n",
            "INFO:tensorflow:{'Loss/classification_loss': 0.101676024,\n",
            " 'Loss/localization_loss': 0.045012668,\n",
            " 'Loss/regularization_loss': 0.12029139,\n",
            " 'Loss/total_loss': 0.26698008,\n",
            " 'learning_rate': 0.03923067}\n",
            "I0128 00:57:00.166541 131938155827840 model_lib_v2.py:708] {'Loss/classification_loss': 0.101676024,\n",
            " 'Loss/localization_loss': 0.045012668,\n",
            " 'Loss/regularization_loss': 0.12029139,\n",
            " 'Loss/total_loss': 0.26698008,\n",
            " 'learning_rate': 0.03923067}\n",
            "INFO:tensorflow:Step 25900 per-step time 0.213s\n",
            "I0128 00:57:21.502728 131938155827840 model_lib_v2.py:705] Step 25900 per-step time 0.213s\n",
            "INFO:tensorflow:{'Loss/classification_loss': 0.07023369,\n",
            " 'Loss/localization_loss': 0.041356765,\n",
            " 'Loss/regularization_loss': 0.11995793,\n",
            " 'Loss/total_loss': 0.2315484,\n",
            " 'learning_rate': 0.038974285}\n",
            "I0128 00:57:21.503000 131938155827840 model_lib_v2.py:708] {'Loss/classification_loss': 0.07023369,\n",
            " 'Loss/localization_loss': 0.041356765,\n",
            " 'Loss/regularization_loss': 0.11995793,\n",
            " 'Loss/total_loss': 0.2315484,\n",
            " 'learning_rate': 0.038974285}\n",
            "INFO:tensorflow:Step 26000 per-step time 0.214s\n",
            "I0128 00:57:42.864487 131938155827840 model_lib_v2.py:705] Step 26000 per-step time 0.214s\n",
            "INFO:tensorflow:{'Loss/classification_loss': 0.07194384,\n",
            " 'Loss/localization_loss': 0.023121916,\n",
            " 'Loss/regularization_loss': 0.119626746,\n",
            " 'Loss/total_loss': 0.2146925,\n",
            " 'learning_rate': 0.038717933}\n",
            "I0128 00:57:42.864771 131938155827840 model_lib_v2.py:708] {'Loss/classification_loss': 0.07194384,\n",
            " 'Loss/localization_loss': 0.023121916,\n",
            " 'Loss/regularization_loss': 0.119626746,\n",
            " 'Loss/total_loss': 0.2146925,\n",
            " 'learning_rate': 0.038717933}\n",
            "INFO:tensorflow:Reduce to /job:localhost/replica:0/task:0/device:CPU:0 then broadcast to ('/job:localhost/replica:0/task:0/device:CPU:0',).\n",
            "I0128 00:57:42.954946 131938155827840 cross_device_ops.py:619] Reduce to /job:localhost/replica:0/task:0/device:CPU:0 then broadcast to ('/job:localhost/replica:0/task:0/device:CPU:0',).\n",
            "INFO:tensorflow:Reduce to /job:localhost/replica:0/task:0/device:CPU:0 then broadcast to ('/job:localhost/replica:0/task:0/device:CPU:0',).\n",
            "I0128 00:57:42.956851 131938155827840 cross_device_ops.py:619] Reduce to /job:localhost/replica:0/task:0/device:CPU:0 then broadcast to ('/job:localhost/replica:0/task:0/device:CPU:0',).\n",
            "INFO:tensorflow:Reduce to /job:localhost/replica:0/task:0/device:CPU:0 then broadcast to ('/job:localhost/replica:0/task:0/device:CPU:0',).\n",
            "I0128 00:57:42.957856 131938155827840 cross_device_ops.py:619] Reduce to /job:localhost/replica:0/task:0/device:CPU:0 then broadcast to ('/job:localhost/replica:0/task:0/device:CPU:0',).\n",
            "INFO:tensorflow:Reduce to /job:localhost/replica:0/task:0/device:CPU:0 then broadcast to ('/job:localhost/replica:0/task:0/device:CPU:0',).\n",
            "I0128 00:57:42.958743 131938155827840 cross_device_ops.py:619] Reduce to /job:localhost/replica:0/task:0/device:CPU:0 then broadcast to ('/job:localhost/replica:0/task:0/device:CPU:0',).\n",
            "INFO:tensorflow:Reduce to /job:localhost/replica:0/task:0/device:CPU:0 then broadcast to ('/job:localhost/replica:0/task:0/device:CPU:0',).\n",
            "I0128 00:57:42.962083 131938155827840 cross_device_ops.py:619] Reduce to /job:localhost/replica:0/task:0/device:CPU:0 then broadcast to ('/job:localhost/replica:0/task:0/device:CPU:0',).\n",
            "INFO:tensorflow:Reduce to /job:localhost/replica:0/task:0/device:CPU:0 then broadcast to ('/job:localhost/replica:0/task:0/device:CPU:0',).\n",
            "I0128 00:57:42.962965 131938155827840 cross_device_ops.py:619] Reduce to /job:localhost/replica:0/task:0/device:CPU:0 then broadcast to ('/job:localhost/replica:0/task:0/device:CPU:0',).\n",
            "INFO:tensorflow:Reduce to /job:localhost/replica:0/task:0/device:CPU:0 then broadcast to ('/job:localhost/replica:0/task:0/device:CPU:0',).\n",
            "I0128 00:57:42.963907 131938155827840 cross_device_ops.py:619] Reduce to /job:localhost/replica:0/task:0/device:CPU:0 then broadcast to ('/job:localhost/replica:0/task:0/device:CPU:0',).\n",
            "INFO:tensorflow:Reduce to /job:localhost/replica:0/task:0/device:CPU:0 then broadcast to ('/job:localhost/replica:0/task:0/device:CPU:0',).\n",
            "I0128 00:57:42.964792 131938155827840 cross_device_ops.py:619] Reduce to /job:localhost/replica:0/task:0/device:CPU:0 then broadcast to ('/job:localhost/replica:0/task:0/device:CPU:0',).\n",
            "INFO:tensorflow:Reduce to /job:localhost/replica:0/task:0/device:CPU:0 then broadcast to ('/job:localhost/replica:0/task:0/device:CPU:0',).\n",
            "I0128 00:57:42.968855 131938155827840 cross_device_ops.py:619] Reduce to /job:localhost/replica:0/task:0/device:CPU:0 then broadcast to ('/job:localhost/replica:0/task:0/device:CPU:0',).\n",
            "INFO:tensorflow:Reduce to /job:localhost/replica:0/task:0/device:CPU:0 then broadcast to ('/job:localhost/replica:0/task:0/device:CPU:0',).\n",
            "I0128 00:57:42.969731 131938155827840 cross_device_ops.py:619] Reduce to /job:localhost/replica:0/task:0/device:CPU:0 then broadcast to ('/job:localhost/replica:0/task:0/device:CPU:0',).\n",
            "INFO:tensorflow:Step 26100 per-step time 0.226s\n",
            "I0128 00:58:05.506169 131938155827840 model_lib_v2.py:705] Step 26100 per-step time 0.226s\n",
            "INFO:tensorflow:{'Loss/classification_loss': 0.069216795,\n",
            " 'Loss/localization_loss': 0.024334107,\n",
            " 'Loss/regularization_loss': 0.11930583,\n",
            " 'Loss/total_loss': 0.21285672,\n",
            " 'learning_rate': 0.038461637}\n",
            "I0128 00:58:05.506445 131938155827840 model_lib_v2.py:708] {'Loss/classification_loss': 0.069216795,\n",
            " 'Loss/localization_loss': 0.024334107,\n",
            " 'Loss/regularization_loss': 0.11930583,\n",
            " 'Loss/total_loss': 0.21285672,\n",
            " 'learning_rate': 0.038461637}\n",
            "INFO:tensorflow:Step 26200 per-step time 0.213s\n",
            "I0128 00:58:26.788805 131938155827840 model_lib_v2.py:705] Step 26200 per-step time 0.213s\n",
            "INFO:tensorflow:{'Loss/classification_loss': 0.10478537,\n",
            " 'Loss/localization_loss': 0.0486162,\n",
            " 'Loss/regularization_loss': 0.118982546,\n",
            " 'Loss/total_loss': 0.2723841,\n",
            " 'learning_rate': 0.038205404}\n",
            "I0128 00:58:26.789080 131938155827840 model_lib_v2.py:708] {'Loss/classification_loss': 0.10478537,\n",
            " 'Loss/localization_loss': 0.0486162,\n",
            " 'Loss/regularization_loss': 0.118982546,\n",
            " 'Loss/total_loss': 0.2723841,\n",
            " 'learning_rate': 0.038205404}\n",
            "INFO:tensorflow:Step 26300 per-step time 0.213s\n",
            "I0128 00:58:48.085944 131938155827840 model_lib_v2.py:705] Step 26300 per-step time 0.213s\n",
            "INFO:tensorflow:{'Loss/classification_loss': 0.08862016,\n",
            " 'Loss/localization_loss': 0.04839437,\n",
            " 'Loss/regularization_loss': 0.11866514,\n",
            " 'Loss/total_loss': 0.25567967,\n",
            " 'learning_rate': 0.03794924}\n",
            "I0128 00:58:48.086209 131938155827840 model_lib_v2.py:708] {'Loss/classification_loss': 0.08862016,\n",
            " 'Loss/localization_loss': 0.04839437,\n",
            " 'Loss/regularization_loss': 0.11866514,\n",
            " 'Loss/total_loss': 0.25567967,\n",
            " 'learning_rate': 0.03794924}\n",
            "INFO:tensorflow:Step 26400 per-step time 0.213s\n",
            "I0128 00:59:09.399358 131938155827840 model_lib_v2.py:705] Step 26400 per-step time 0.213s\n",
            "INFO:tensorflow:{'Loss/classification_loss': 0.12694591,\n",
            " 'Loss/localization_loss': 0.121107735,\n",
            " 'Loss/regularization_loss': 0.118338995,\n",
            " 'Loss/total_loss': 0.36639264,\n",
            " 'learning_rate': 0.03769317}\n",
            "I0128 00:59:09.399649 131938155827840 model_lib_v2.py:708] {'Loss/classification_loss': 0.12694591,\n",
            " 'Loss/localization_loss': 0.121107735,\n",
            " 'Loss/regularization_loss': 0.118338995,\n",
            " 'Loss/total_loss': 0.36639264,\n",
            " 'learning_rate': 0.03769317}\n",
            "INFO:tensorflow:Step 26500 per-step time 0.213s\n",
            "I0128 00:59:30.690497 131938155827840 model_lib_v2.py:705] Step 26500 per-step time 0.213s\n",
            "INFO:tensorflow:{'Loss/classification_loss': 0.06561748,\n",
            " 'Loss/localization_loss': 0.029163174,\n",
            " 'Loss/regularization_loss': 0.11802228,\n",
            " 'Loss/total_loss': 0.21280295,\n",
            " 'learning_rate': 0.037437186}\n",
            "I0128 00:59:30.690768 131938155827840 model_lib_v2.py:708] {'Loss/classification_loss': 0.06561748,\n",
            " 'Loss/localization_loss': 0.029163174,\n",
            " 'Loss/regularization_loss': 0.11802228,\n",
            " 'Loss/total_loss': 0.21280295,\n",
            " 'learning_rate': 0.037437186}\n",
            "INFO:tensorflow:Step 26600 per-step time 0.213s\n",
            "I0128 00:59:51.971952 131938155827840 model_lib_v2.py:705] Step 26600 per-step time 0.213s\n",
            "INFO:tensorflow:{'Loss/classification_loss': 0.07934133,\n",
            " 'Loss/localization_loss': 0.02651774,\n",
            " 'Loss/regularization_loss': 0.11771137,\n",
            " 'Loss/total_loss': 0.22357044,\n",
            " 'learning_rate': 0.037181314}\n",
            "I0128 00:59:51.972265 131938155827840 model_lib_v2.py:708] {'Loss/classification_loss': 0.07934133,\n",
            " 'Loss/localization_loss': 0.02651774,\n",
            " 'Loss/regularization_loss': 0.11771137,\n",
            " 'Loss/total_loss': 0.22357044,\n",
            " 'learning_rate': 0.037181314}\n",
            "INFO:tensorflow:Step 26700 per-step time 0.214s\n",
            "I0128 01:00:13.340710 131938155827840 model_lib_v2.py:705] Step 26700 per-step time 0.214s\n",
            "INFO:tensorflow:{'Loss/classification_loss': 0.06608289,\n",
            " 'Loss/localization_loss': 0.023227127,\n",
            " 'Loss/regularization_loss': 0.11743971,\n",
            " 'Loss/total_loss': 0.20674972,\n",
            " 'learning_rate': 0.036925558}\n",
            "I0128 01:00:13.341009 131938155827840 model_lib_v2.py:708] {'Loss/classification_loss': 0.06608289,\n",
            " 'Loss/localization_loss': 0.023227127,\n",
            " 'Loss/regularization_loss': 0.11743971,\n",
            " 'Loss/total_loss': 0.20674972,\n",
            " 'learning_rate': 0.036925558}\n",
            "INFO:tensorflow:Step 26800 per-step time 0.213s\n",
            "I0128 01:00:34.653117 131938155827840 model_lib_v2.py:705] Step 26800 per-step time 0.213s\n",
            "INFO:tensorflow:{'Loss/classification_loss': 0.14780958,\n",
            " 'Loss/localization_loss': 0.035463683,\n",
            " 'Loss/regularization_loss': 0.11713226,\n",
            " 'Loss/total_loss': 0.30040553,\n",
            " 'learning_rate': 0.03666992}\n",
            "I0128 01:00:34.653498 131938155827840 model_lib_v2.py:708] {'Loss/classification_loss': 0.14780958,\n",
            " 'Loss/localization_loss': 0.035463683,\n",
            " 'Loss/regularization_loss': 0.11713226,\n",
            " 'Loss/total_loss': 0.30040553,\n",
            " 'learning_rate': 0.03666992}\n",
            "INFO:tensorflow:Step 26900 per-step time 0.213s\n",
            "I0128 01:00:55.949179 131938155827840 model_lib_v2.py:705] Step 26900 per-step time 0.213s\n",
            "INFO:tensorflow:{'Loss/classification_loss': 0.076248415,\n",
            " 'Loss/localization_loss': 0.020973297,\n",
            " 'Loss/regularization_loss': 0.11683211,\n",
            " 'Loss/total_loss': 0.21405381,\n",
            " 'learning_rate': 0.03641443}\n",
            "I0128 01:00:55.949463 131938155827840 model_lib_v2.py:708] {'Loss/classification_loss': 0.076248415,\n",
            " 'Loss/localization_loss': 0.020973297,\n",
            " 'Loss/regularization_loss': 0.11683211,\n",
            " 'Loss/total_loss': 0.21405381,\n",
            " 'learning_rate': 0.03641443}\n",
            "INFO:tensorflow:Step 27000 per-step time 0.214s\n",
            "I0128 01:01:17.367759 131938155827840 model_lib_v2.py:705] Step 27000 per-step time 0.214s\n",
            "INFO:tensorflow:{'Loss/classification_loss': 0.06789185,\n",
            " 'Loss/localization_loss': 0.06729983,\n",
            " 'Loss/regularization_loss': 0.116523735,\n",
            " 'Loss/total_loss': 0.25171542,\n",
            " 'learning_rate': 0.036159072}\n",
            "I0128 01:01:17.368041 131938155827840 model_lib_v2.py:708] {'Loss/classification_loss': 0.06789185,\n",
            " 'Loss/localization_loss': 0.06729983,\n",
            " 'Loss/regularization_loss': 0.116523735,\n",
            " 'Loss/total_loss': 0.25171542,\n",
            " 'learning_rate': 0.036159072}\n",
            "INFO:tensorflow:Step 27100 per-step time 0.225s\n",
            "I0128 01:01:39.854527 131938155827840 model_lib_v2.py:705] Step 27100 per-step time 0.225s\n",
            "INFO:tensorflow:{'Loss/classification_loss': 0.07479068,\n",
            " 'Loss/localization_loss': 0.031526458,\n",
            " 'Loss/regularization_loss': 0.11622223,\n",
            " 'Loss/total_loss': 0.22253938,\n",
            " 'learning_rate': 0.035903886}\n",
            "I0128 01:01:39.854816 131938155827840 model_lib_v2.py:708] {'Loss/classification_loss': 0.07479068,\n",
            " 'Loss/localization_loss': 0.031526458,\n",
            " 'Loss/regularization_loss': 0.11622223,\n",
            " 'Loss/total_loss': 0.22253938,\n",
            " 'learning_rate': 0.035903886}\n",
            "INFO:tensorflow:Step 27200 per-step time 0.213s\n",
            "I0128 01:02:01.152101 131938155827840 model_lib_v2.py:705] Step 27200 per-step time 0.213s\n",
            "INFO:tensorflow:{'Loss/classification_loss': 0.060113996,\n",
            " 'Loss/localization_loss': 0.032241352,\n",
            " 'Loss/regularization_loss': 0.11591798,\n",
            " 'Loss/total_loss': 0.20827332,\n",
            " 'learning_rate': 0.035648864}\n",
            "I0128 01:02:01.152427 131938155827840 model_lib_v2.py:708] {'Loss/classification_loss': 0.060113996,\n",
            " 'Loss/localization_loss': 0.032241352,\n",
            " 'Loss/regularization_loss': 0.11591798,\n",
            " 'Loss/total_loss': 0.20827332,\n",
            " 'learning_rate': 0.035648864}\n",
            "INFO:tensorflow:Step 27300 per-step time 0.213s\n",
            "I0128 01:02:22.446578 131938155827840 model_lib_v2.py:705] Step 27300 per-step time 0.213s\n",
            "INFO:tensorflow:{'Loss/classification_loss': 0.058338936,\n",
            " 'Loss/localization_loss': 0.053417683,\n",
            " 'Loss/regularization_loss': 0.115620494,\n",
            " 'Loss/total_loss': 0.22737712,\n",
            " 'learning_rate': 0.03539402}\n",
            "I0128 01:02:22.446847 131938155827840 model_lib_v2.py:708] {'Loss/classification_loss': 0.058338936,\n",
            " 'Loss/localization_loss': 0.053417683,\n",
            " 'Loss/regularization_loss': 0.115620494,\n",
            " 'Loss/total_loss': 0.22737712,\n",
            " 'learning_rate': 0.03539402}\n",
            "INFO:tensorflow:Step 27400 per-step time 0.213s\n",
            "I0128 01:02:43.751193 131938155827840 model_lib_v2.py:705] Step 27400 per-step time 0.213s\n",
            "INFO:tensorflow:{'Loss/classification_loss': 0.06767108,\n",
            " 'Loss/localization_loss': 0.020907428,\n",
            " 'Loss/regularization_loss': 0.11532259,\n",
            " 'Loss/total_loss': 0.20390111,\n",
            " 'learning_rate': 0.035139363}\n",
            "I0128 01:02:43.751459 131938155827840 model_lib_v2.py:708] {'Loss/classification_loss': 0.06767108,\n",
            " 'Loss/localization_loss': 0.020907428,\n",
            " 'Loss/regularization_loss': 0.11532259,\n",
            " 'Loss/total_loss': 0.20390111,\n",
            " 'learning_rate': 0.035139363}\n",
            "INFO:tensorflow:Step 27500 per-step time 0.213s\n",
            "I0128 01:03:05.082585 131938155827840 model_lib_v2.py:705] Step 27500 per-step time 0.213s\n",
            "INFO:tensorflow:{'Loss/classification_loss': 0.08155,\n",
            " 'Loss/localization_loss': 0.0213144,\n",
            " 'Loss/regularization_loss': 0.11503009,\n",
            " 'Loss/total_loss': 0.21789448,\n",
            " 'learning_rate': 0.03488491}\n",
            "I0128 01:03:05.082853 131938155827840 model_lib_v2.py:708] {'Loss/classification_loss': 0.08155,\n",
            " 'Loss/localization_loss': 0.0213144,\n",
            " 'Loss/regularization_loss': 0.11503009,\n",
            " 'Loss/total_loss': 0.21789448,\n",
            " 'learning_rate': 0.03488491}\n",
            "INFO:tensorflow:Step 27600 per-step time 0.214s\n",
            "I0128 01:03:26.452253 131938155827840 model_lib_v2.py:705] Step 27600 per-step time 0.214s\n",
            "INFO:tensorflow:{'Loss/classification_loss': 0.11031056,\n",
            " 'Loss/localization_loss': 0.038602192,\n",
            " 'Loss/regularization_loss': 0.11474883,\n",
            " 'Loss/total_loss': 0.2636616,\n",
            " 'learning_rate': 0.034630664}\n",
            "I0128 01:03:26.452519 131938155827840 model_lib_v2.py:708] {'Loss/classification_loss': 0.11031056,\n",
            " 'Loss/localization_loss': 0.038602192,\n",
            " 'Loss/regularization_loss': 0.11474883,\n",
            " 'Loss/total_loss': 0.2636616,\n",
            " 'learning_rate': 0.034630664}\n",
            "INFO:tensorflow:Step 27700 per-step time 0.213s\n",
            "I0128 01:03:47.772135 131938155827840 model_lib_v2.py:705] Step 27700 per-step time 0.213s\n",
            "INFO:tensorflow:{'Loss/classification_loss': 0.0636621,\n",
            " 'Loss/localization_loss': 0.03488421,\n",
            " 'Loss/regularization_loss': 0.11446038,\n",
            " 'Loss/total_loss': 0.21300669,\n",
            " 'learning_rate': 0.034376644}\n",
            "I0128 01:03:47.772458 131938155827840 model_lib_v2.py:708] {'Loss/classification_loss': 0.0636621,\n",
            " 'Loss/localization_loss': 0.03488421,\n",
            " 'Loss/regularization_loss': 0.11446038,\n",
            " 'Loss/total_loss': 0.21300669,\n",
            " 'learning_rate': 0.034376644}\n",
            "INFO:tensorflow:Step 27800 per-step time 0.213s\n",
            "I0128 01:04:09.081668 131938155827840 model_lib_v2.py:705] Step 27800 per-step time 0.213s\n",
            "INFO:tensorflow:{'Loss/classification_loss': 0.07300537,\n",
            " 'Loss/localization_loss': 0.04151291,\n",
            " 'Loss/regularization_loss': 0.1141729,\n",
            " 'Loss/total_loss': 0.22869118,\n",
            " 'learning_rate': 0.034122847}\n",
            "I0128 01:04:09.081968 131938155827840 model_lib_v2.py:708] {'Loss/classification_loss': 0.07300537,\n",
            " 'Loss/localization_loss': 0.04151291,\n",
            " 'Loss/regularization_loss': 0.1141729,\n",
            " 'Loss/total_loss': 0.22869118,\n",
            " 'learning_rate': 0.034122847}\n",
            "INFO:tensorflow:Step 27900 per-step time 0.213s\n",
            "I0128 01:04:30.366629 131938155827840 model_lib_v2.py:705] Step 27900 per-step time 0.213s\n",
            "INFO:tensorflow:{'Loss/classification_loss': 0.077298015,\n",
            " 'Loss/localization_loss': 0.019638352,\n",
            " 'Loss/regularization_loss': 0.113890626,\n",
            " 'Loss/total_loss': 0.210827,\n",
            " 'learning_rate': 0.0338693}\n",
            "I0128 01:04:30.366911 131938155827840 model_lib_v2.py:708] {'Loss/classification_loss': 0.077298015,\n",
            " 'Loss/localization_loss': 0.019638352,\n",
            " 'Loss/regularization_loss': 0.113890626,\n",
            " 'Loss/total_loss': 0.210827,\n",
            " 'learning_rate': 0.0338693}\n",
            "INFO:tensorflow:Step 28000 per-step time 0.213s\n",
            "I0128 01:04:51.682225 131938155827840 model_lib_v2.py:705] Step 28000 per-step time 0.213s\n",
            "INFO:tensorflow:{'Loss/classification_loss': 0.058423582,\n",
            " 'Loss/localization_loss': 0.032112785,\n",
            " 'Loss/regularization_loss': 0.11360784,\n",
            " 'Loss/total_loss': 0.20414421,\n",
            " 'learning_rate': 0.033615995}\n",
            "I0128 01:04:51.682523 131938155827840 model_lib_v2.py:708] {'Loss/classification_loss': 0.058423582,\n",
            " 'Loss/localization_loss': 0.032112785,\n",
            " 'Loss/regularization_loss': 0.11360784,\n",
            " 'Loss/total_loss': 0.20414421,\n",
            " 'learning_rate': 0.033615995}\n",
            "INFO:tensorflow:Step 28100 per-step time 0.224s\n",
            "I0128 01:05:14.080988 131938155827840 model_lib_v2.py:705] Step 28100 per-step time 0.224s\n",
            "INFO:tensorflow:{'Loss/classification_loss': 0.06528812,\n",
            " 'Loss/localization_loss': 0.023710048,\n",
            " 'Loss/regularization_loss': 0.11332984,\n",
            " 'Loss/total_loss': 0.202328,\n",
            " 'learning_rate': 0.033362966}\n",
            "I0128 01:05:14.081346 131938155827840 model_lib_v2.py:708] {'Loss/classification_loss': 0.06528812,\n",
            " 'Loss/localization_loss': 0.023710048,\n",
            " 'Loss/regularization_loss': 0.11332984,\n",
            " 'Loss/total_loss': 0.202328,\n",
            " 'learning_rate': 0.033362966}\n",
            "^C\n"
          ]
        }
      ],
      "source": [
        "# THIS IS THE CODE TO START TRAINING\n",
        "\n",
        "with tf.device('/GPU:0'):\n",
        "  !python model_main_tf2.py\\\n",
        "    --pipeline_config_path=/content/drive/MyDrive/Models/golf-ssd-640/ssd_mobilenet_v2_fpnlite_640x640_coco17_tpu-8.config\\\n",
        "    --model_dir=/content/drive/MyDrive/Models/golf-ssd-640/training/model-checkpoint-storage\\\n",
        "    --alsologtostderr"
      ]
    },
    {
      "cell_type": "code",
      "execution_count": null,
      "metadata": {
        "id": "R1y1IFn-0AFl"
      },
      "outputs": [],
      "source": [
        "# Evaluate the model:\n",
        "!python model_main_tf2.py\\\n",
        "  --pipeline_config_path=/content/drive/MyDrive/Models/golf-ssd-640/ssd_mobilenet_v2_fpnlite_640x640_coco17_tpu-8.config\\\n",
        "  --model_dir=/content/drive/MyDrive/Models/golf-ssd-640/training\\\n",
        "  --checkpoint_dir=/content/drive/MyDrive/Models/golf-ssd-640/training/training-checkpoints\\\n",
        "  --num_workers=8\\\n",
        "  --sample_1_of_n_eval_examples=1"
      ]
    },
    {
      "cell_type": "code",
      "execution_count": null,
      "metadata": {
        "id": "ADGORv-Ewpbo",
        "colab": {
          "base_uri": "https://localhost:8080/"
        },
        "outputId": "6758f96b-2b28-465d-879f-893eff3a03d4"
      },
      "outputs": [
        {
          "output_type": "stream",
          "name": "stdout",
          "text": [
            "2024-01-28 01:06:58.261376: E external/local_xla/xla/stream_executor/cuda/cuda_dnn.cc:9261] Unable to register cuDNN factory: Attempting to register factory for plugin cuDNN when one has already been registered\n",
            "2024-01-28 01:06:58.261422: E external/local_xla/xla/stream_executor/cuda/cuda_fft.cc:607] Unable to register cuFFT factory: Attempting to register factory for plugin cuFFT when one has already been registered\n",
            "2024-01-28 01:06:58.262660: E external/local_xla/xla/stream_executor/cuda/cuda_blas.cc:1515] Unable to register cuBLAS factory: Attempting to register factory for plugin cuBLAS when one has already been registered\n",
            "2024-01-28 01:06:59.232770: W tensorflow/compiler/tf2tensorrt/utils/py_utils.cc:38] TF-TRT Warning: Could not find TensorRT\n",
            "2024-01-28 01:07:01.677581: W tensorflow/core/common_runtime/gpu/gpu_bfc_allocator.cc:47] Overriding orig_value setting because the TF_FORCE_GPU_ALLOW_GROWTH environment variable is set. Original config value was 0.\n",
            "WARNING:tensorflow:From /usr/local/lib/python3.10/dist-packages/tensorflow/python/autograph/impl/api.py:459: calling map_fn_v2 (from tensorflow.python.ops.map_fn) with back_prop=False is deprecated and will be removed in a future version.\n",
            "Instructions for updating:\n",
            "back_prop=False is deprecated. Consider using tf.stop_gradient instead.\n",
            "Instead of:\n",
            "results = tf.map_fn(fn, elems, back_prop=False)\n",
            "Use:\n",
            "results = tf.nest.map_structure(tf.stop_gradient, tf.map_fn(fn, elems))\n",
            "W0128 01:07:01.842623 139452696941184 deprecation.py:50] From /usr/local/lib/python3.10/dist-packages/tensorflow/python/autograph/impl/api.py:459: calling map_fn_v2 (from tensorflow.python.ops.map_fn) with back_prop=False is deprecated and will be removed in a future version.\n",
            "Instructions for updating:\n",
            "back_prop=False is deprecated. Consider using tf.stop_gradient instead.\n",
            "Instead of:\n",
            "results = tf.map_fn(fn, elems, back_prop=False)\n",
            "Use:\n",
            "results = tf.nest.map_structure(tf.stop_gradient, tf.map_fn(fn, elems))\n",
            "I0128 01:07:05.640164 139452696941184 api.py:460] feature_map_spatial_dims: [(80, 80), (40, 40), (20, 20), (10, 10), (5, 5)]\n",
            "I0128 01:07:24.293568 139452696941184 api.py:460] feature_map_spatial_dims: [(80, 80), (40, 40), (20, 20), (10, 10), (5, 5)]\n",
            "I0128 01:07:37.004279 139452696941184 signature_serialization.py:156] Function `call_func` contains input name(s) resource with unsupported characters which will be renamed to weightsharedconvolutionalboxpredictor_predictiontower_conv2d_3_batchnorm_feature_4_fusedbatchnormv3_readvariableop_1_resource in the SavedModel.\n",
            "I0128 01:07:38.386635 139452696941184 api.py:460] feature_map_spatial_dims: [(80, 80), (40, 40), (20, 20), (10, 10), (5, 5)]\n",
            "WARNING:tensorflow:Skipping full serialization of Keras layer <object_detection.meta_architectures.ssd_meta_arch.SSDMetaArch object at 0x7ed44ccb7760>, because it is not built.\n",
            "W0128 01:07:50.445276 139452696941184 save_impl.py:66] Skipping full serialization of Keras layer <object_detection.meta_architectures.ssd_meta_arch.SSDMetaArch object at 0x7ed44ccb7760>, because it is not built.\n",
            "WARNING:tensorflow:Skipping full serialization of Keras layer <keras.src.layers.convolutional.separable_conv2d.SeparableConv2D object at 0x7ed3d80fc610>, because it is not built.\n",
            "W0128 01:07:50.713407 139452696941184 save_impl.py:66] Skipping full serialization of Keras layer <keras.src.layers.convolutional.separable_conv2d.SeparableConv2D object at 0x7ed3d80fc610>, because it is not built.\n",
            "WARNING:tensorflow:Skipping full serialization of Keras layer <object_detection.core.freezable_batch_norm.FreezableBatchNorm object at 0x7ed4400cd870>, because it is not built.\n",
            "W0128 01:07:50.713613 139452696941184 save_impl.py:66] Skipping full serialization of Keras layer <object_detection.core.freezable_batch_norm.FreezableBatchNorm object at 0x7ed4400cd870>, because it is not built.\n",
            "WARNING:tensorflow:Skipping full serialization of Keras layer <keras.src.layers.core.lambda_layer.Lambda object at 0x7ed4400ce5c0>, because it is not built.\n",
            "W0128 01:07:50.713693 139452696941184 save_impl.py:66] Skipping full serialization of Keras layer <keras.src.layers.core.lambda_layer.Lambda object at 0x7ed4400ce5c0>, because it is not built.\n",
            "WARNING:tensorflow:Skipping full serialization of Keras layer <keras.src.layers.convolutional.separable_conv2d.SeparableConv2D object at 0x7ed3d81d1f00>, because it is not built.\n",
            "W0128 01:07:50.713764 139452696941184 save_impl.py:66] Skipping full serialization of Keras layer <keras.src.layers.convolutional.separable_conv2d.SeparableConv2D object at 0x7ed3d81d1f00>, because it is not built.\n",
            "WARNING:tensorflow:Skipping full serialization of Keras layer <object_detection.core.freezable_batch_norm.FreezableBatchNorm object at 0x7ed3f393e020>, because it is not built.\n",
            "W0128 01:07:50.713824 139452696941184 save_impl.py:66] Skipping full serialization of Keras layer <object_detection.core.freezable_batch_norm.FreezableBatchNorm object at 0x7ed3f393e020>, because it is not built.\n",
            "WARNING:tensorflow:Skipping full serialization of Keras layer <keras.src.layers.core.lambda_layer.Lambda object at 0x7ed3f393e620>, because it is not built.\n",
            "W0128 01:07:50.713910 139452696941184 save_impl.py:66] Skipping full serialization of Keras layer <keras.src.layers.core.lambda_layer.Lambda object at 0x7ed3f393e620>, because it is not built.\n",
            "WARNING:tensorflow:Skipping full serialization of Keras layer <keras.src.layers.convolutional.separable_conv2d.SeparableConv2D object at 0x7ed3d81927d0>, because it is not built.\n",
            "W0128 01:07:50.714012 139452696941184 save_impl.py:66] Skipping full serialization of Keras layer <keras.src.layers.convolutional.separable_conv2d.SeparableConv2D object at 0x7ed3d81927d0>, because it is not built.\n",
            "WARNING:tensorflow:Skipping full serialization of Keras layer <object_detection.core.freezable_batch_norm.FreezableBatchNorm object at 0x7ed3d8190a90>, because it is not built.\n",
            "W0128 01:07:50.714084 139452696941184 save_impl.py:66] Skipping full serialization of Keras layer <object_detection.core.freezable_batch_norm.FreezableBatchNorm object at 0x7ed3d8190a90>, because it is not built.\n",
            "WARNING:tensorflow:Skipping full serialization of Keras layer <keras.src.layers.core.lambda_layer.Lambda object at 0x7ed3d8190670>, because it is not built.\n",
            "W0128 01:07:50.714147 139452696941184 save_impl.py:66] Skipping full serialization of Keras layer <keras.src.layers.core.lambda_layer.Lambda object at 0x7ed3d8190670>, because it is not built.\n",
            "WARNING:tensorflow:Skipping full serialization of Keras layer <keras.src.layers.convolutional.separable_conv2d.SeparableConv2D object at 0x7ed44008d030>, because it is not built.\n",
            "W0128 01:07:50.714203 139452696941184 save_impl.py:66] Skipping full serialization of Keras layer <keras.src.layers.convolutional.separable_conv2d.SeparableConv2D object at 0x7ed44008d030>, because it is not built.\n",
            "WARNING:tensorflow:Skipping full serialization of Keras layer <object_detection.core.freezable_batch_norm.FreezableBatchNorm object at 0x7ed3d0562920>, because it is not built.\n",
            "W0128 01:07:50.714259 139452696941184 save_impl.py:66] Skipping full serialization of Keras layer <object_detection.core.freezable_batch_norm.FreezableBatchNorm object at 0x7ed3d0562920>, because it is not built.\n",
            "WARNING:tensorflow:Skipping full serialization of Keras layer <keras.src.layers.core.lambda_layer.Lambda object at 0x7ed3d05606d0>, because it is not built.\n",
            "W0128 01:07:50.714320 139452696941184 save_impl.py:66] Skipping full serialization of Keras layer <keras.src.layers.core.lambda_layer.Lambda object at 0x7ed3d05606d0>, because it is not built.\n",
            "WARNING:tensorflow:Skipping full serialization of Keras layer <object_detection.core.freezable_batch_norm.FreezableBatchNorm object at 0x7ed4400d8490>, because it is not built.\n",
            "W0128 01:07:50.714376 139452696941184 save_impl.py:66] Skipping full serialization of Keras layer <object_detection.core.freezable_batch_norm.FreezableBatchNorm object at 0x7ed4400d8490>, because it is not built.\n",
            "WARNING:tensorflow:Skipping full serialization of Keras layer <keras.src.layers.core.lambda_layer.Lambda object at 0x7ed3d05f4fa0>, because it is not built.\n",
            "W0128 01:07:50.714432 139452696941184 save_impl.py:66] Skipping full serialization of Keras layer <keras.src.layers.core.lambda_layer.Lambda object at 0x7ed3d05f4fa0>, because it is not built.\n",
            "WARNING:tensorflow:Skipping full serialization of Keras layer <object_detection.core.freezable_batch_norm.FreezableBatchNorm object at 0x7ed3d05f7520>, because it is not built.\n",
            "W0128 01:07:50.714509 139452696941184 save_impl.py:66] Skipping full serialization of Keras layer <object_detection.core.freezable_batch_norm.FreezableBatchNorm object at 0x7ed3d05f7520>, because it is not built.\n",
            "WARNING:tensorflow:Skipping full serialization of Keras layer <keras.src.layers.core.lambda_layer.Lambda object at 0x7ed3d05f5f30>, because it is not built.\n",
            "W0128 01:07:50.714598 139452696941184 save_impl.py:66] Skipping full serialization of Keras layer <keras.src.layers.core.lambda_layer.Lambda object at 0x7ed3d05f5f30>, because it is not built.\n",
            "WARNING:tensorflow:Skipping full serialization of Keras layer <object_detection.core.freezable_batch_norm.FreezableBatchNorm object at 0x7ed3d05f71c0>, because it is not built.\n",
            "W0128 01:07:50.714690 139452696941184 save_impl.py:66] Skipping full serialization of Keras layer <object_detection.core.freezable_batch_norm.FreezableBatchNorm object at 0x7ed3d05f71c0>, because it is not built.\n",
            "WARNING:tensorflow:Skipping full serialization of Keras layer <keras.src.layers.core.lambda_layer.Lambda object at 0x7ed3d05f6e30>, because it is not built.\n",
            "W0128 01:07:50.714771 139452696941184 save_impl.py:66] Skipping full serialization of Keras layer <keras.src.layers.core.lambda_layer.Lambda object at 0x7ed3d05f6e30>, because it is not built.\n",
            "WARNING:tensorflow:Skipping full serialization of Keras layer <object_detection.core.freezable_batch_norm.FreezableBatchNorm object at 0x7ed3d05f6fb0>, because it is not built.\n",
            "W0128 01:07:50.714856 139452696941184 save_impl.py:66] Skipping full serialization of Keras layer <object_detection.core.freezable_batch_norm.FreezableBatchNorm object at 0x7ed3d05f6fb0>, because it is not built.\n",
            "WARNING:tensorflow:Skipping full serialization of Keras layer <keras.src.layers.core.lambda_layer.Lambda object at 0x7ed3d05f4ca0>, because it is not built.\n",
            "W0128 01:07:50.714915 139452696941184 save_impl.py:66] Skipping full serialization of Keras layer <keras.src.layers.core.lambda_layer.Lambda object at 0x7ed3d05f4ca0>, because it is not built.\n",
            "WARNING:tensorflow:Skipping full serialization of Keras layer <object_detection.core.freezable_batch_norm.FreezableBatchNorm object at 0x7ed3d81e6f20>, because it is not built.\n",
            "W0128 01:07:50.714971 139452696941184 save_impl.py:66] Skipping full serialization of Keras layer <object_detection.core.freezable_batch_norm.FreezableBatchNorm object at 0x7ed3d81e6f20>, because it is not built.\n",
            "WARNING:tensorflow:Skipping full serialization of Keras layer <keras.src.layers.core.lambda_layer.Lambda object at 0x7ed3d049df90>, because it is not built.\n",
            "W0128 01:07:50.715026 139452696941184 save_impl.py:66] Skipping full serialization of Keras layer <keras.src.layers.core.lambda_layer.Lambda object at 0x7ed3d049df90>, because it is not built.\n",
            "WARNING:tensorflow:Skipping full serialization of Keras layer <object_detection.core.freezable_batch_norm.FreezableBatchNorm object at 0x7ed3d049c2b0>, because it is not built.\n",
            "W0128 01:07:50.715207 139452696941184 save_impl.py:66] Skipping full serialization of Keras layer <object_detection.core.freezable_batch_norm.FreezableBatchNorm object at 0x7ed3d049c2b0>, because it is not built.\n",
            "WARNING:tensorflow:Skipping full serialization of Keras layer <keras.src.layers.core.lambda_layer.Lambda object at 0x7ed3d049e2c0>, because it is not built.\n",
            "W0128 01:07:50.715273 139452696941184 save_impl.py:66] Skipping full serialization of Keras layer <keras.src.layers.core.lambda_layer.Lambda object at 0x7ed3d049e2c0>, because it is not built.\n",
            "WARNING:tensorflow:Skipping full serialization of Keras layer <object_detection.core.freezable_batch_norm.FreezableBatchNorm object at 0x7ed3d049c1f0>, because it is not built.\n",
            "W0128 01:07:50.715335 139452696941184 save_impl.py:66] Skipping full serialization of Keras layer <object_detection.core.freezable_batch_norm.FreezableBatchNorm object at 0x7ed3d049c1f0>, because it is not built.\n",
            "WARNING:tensorflow:Skipping full serialization of Keras layer <keras.src.layers.core.lambda_layer.Lambda object at 0x7ed3d049c040>, because it is not built.\n",
            "W0128 01:07:50.715400 139452696941184 save_impl.py:66] Skipping full serialization of Keras layer <keras.src.layers.core.lambda_layer.Lambda object at 0x7ed3d049c040>, because it is not built.\n",
            "WARNING:tensorflow:Skipping full serialization of Keras layer <object_detection.core.freezable_batch_norm.FreezableBatchNorm object at 0x7ed3d049e980>, because it is not built.\n",
            "W0128 01:07:50.715456 139452696941184 save_impl.py:66] Skipping full serialization of Keras layer <object_detection.core.freezable_batch_norm.FreezableBatchNorm object at 0x7ed3d049e980>, because it is not built.\n",
            "WARNING:tensorflow:Skipping full serialization of Keras layer <keras.src.layers.core.lambda_layer.Lambda object at 0x7ed3d049f6d0>, because it is not built.\n",
            "W0128 01:07:50.715512 139452696941184 save_impl.py:66] Skipping full serialization of Keras layer <keras.src.layers.core.lambda_layer.Lambda object at 0x7ed3d049f6d0>, because it is not built.\n",
            "WARNING:tensorflow:Skipping full serialization of Keras layer <object_detection.core.freezable_batch_norm.FreezableBatchNorm object at 0x7ed3d049f5b0>, because it is not built.\n",
            "W0128 01:07:50.715615 139452696941184 save_impl.py:66] Skipping full serialization of Keras layer <object_detection.core.freezable_batch_norm.FreezableBatchNorm object at 0x7ed3d049f5b0>, because it is not built.\n",
            "WARNING:tensorflow:Skipping full serialization of Keras layer <keras.src.layers.core.lambda_layer.Lambda object at 0x7ed3d0671ff0>, because it is not built.\n",
            "W0128 01:07:50.715720 139452696941184 save_impl.py:66] Skipping full serialization of Keras layer <keras.src.layers.core.lambda_layer.Lambda object at 0x7ed3d0671ff0>, because it is not built.\n",
            "WARNING:tensorflow:Skipping full serialization of Keras layer <object_detection.core.freezable_batch_norm.FreezableBatchNorm object at 0x7ed3d06736a0>, because it is not built.\n",
            "W0128 01:07:50.715800 139452696941184 save_impl.py:66] Skipping full serialization of Keras layer <object_detection.core.freezable_batch_norm.FreezableBatchNorm object at 0x7ed3d06736a0>, because it is not built.\n",
            "WARNING:tensorflow:Skipping full serialization of Keras layer <keras.src.layers.core.lambda_layer.Lambda object at 0x7ed3d0671a50>, because it is not built.\n",
            "W0128 01:07:50.715889 139452696941184 save_impl.py:66] Skipping full serialization of Keras layer <keras.src.layers.core.lambda_layer.Lambda object at 0x7ed3d0671a50>, because it is not built.\n",
            "WARNING:tensorflow:Skipping full serialization of Keras layer <object_detection.core.freezable_batch_norm.FreezableBatchNorm object at 0x7ed3d0673a90>, because it is not built.\n",
            "W0128 01:07:50.715975 139452696941184 save_impl.py:66] Skipping full serialization of Keras layer <object_detection.core.freezable_batch_norm.FreezableBatchNorm object at 0x7ed3d0673a90>, because it is not built.\n",
            "WARNING:tensorflow:Skipping full serialization of Keras layer <keras.src.layers.core.lambda_layer.Lambda object at 0x7ed3d06738e0>, because it is not built.\n",
            "W0128 01:07:50.716034 139452696941184 save_impl.py:66] Skipping full serialization of Keras layer <keras.src.layers.core.lambda_layer.Lambda object at 0x7ed3d06738e0>, because it is not built.\n",
            "WARNING:tensorflow:Skipping full serialization of Keras layer <object_detection.core.freezable_batch_norm.FreezableBatchNorm object at 0x7ed3d0672980>, because it is not built.\n",
            "W0128 01:07:50.716091 139452696941184 save_impl.py:66] Skipping full serialization of Keras layer <object_detection.core.freezable_batch_norm.FreezableBatchNorm object at 0x7ed3d0672980>, because it is not built.\n",
            "WARNING:tensorflow:Skipping full serialization of Keras layer <keras.src.layers.core.lambda_layer.Lambda object at 0x7ed3d0671600>, because it is not built.\n",
            "W0128 01:07:50.716156 139452696941184 save_impl.py:66] Skipping full serialization of Keras layer <keras.src.layers.core.lambda_layer.Lambda object at 0x7ed3d0671600>, because it is not built.\n",
            "WARNING:tensorflow:Skipping full serialization of Keras layer <object_detection.core.freezable_batch_norm.FreezableBatchNorm object at 0x7ed3d0673940>, because it is not built.\n",
            "W0128 01:07:50.716215 139452696941184 save_impl.py:66] Skipping full serialization of Keras layer <object_detection.core.freezable_batch_norm.FreezableBatchNorm object at 0x7ed3d0673940>, because it is not built.\n",
            "WARNING:tensorflow:Skipping full serialization of Keras layer <keras.src.layers.core.lambda_layer.Lambda object at 0x7ed3d022d0f0>, because it is not built.\n",
            "W0128 01:07:50.716272 139452696941184 save_impl.py:66] Skipping full serialization of Keras layer <keras.src.layers.core.lambda_layer.Lambda object at 0x7ed3d022d0f0>, because it is not built.\n",
            "WARNING:tensorflow:Skipping full serialization of Keras layer <object_detection.core.freezable_batch_norm.FreezableBatchNorm object at 0x7ed3d022ee90>, because it is not built.\n",
            "W0128 01:07:50.716387 139452696941184 save_impl.py:66] Skipping full serialization of Keras layer <object_detection.core.freezable_batch_norm.FreezableBatchNorm object at 0x7ed3d022ee90>, because it is not built.\n",
            "WARNING:tensorflow:Skipping full serialization of Keras layer <keras.src.layers.core.lambda_layer.Lambda object at 0x7ed3d022e860>, because it is not built.\n",
            "W0128 01:07:50.716448 139452696941184 save_impl.py:66] Skipping full serialization of Keras layer <keras.src.layers.core.lambda_layer.Lambda object at 0x7ed3d022e860>, because it is not built.\n",
            "WARNING:tensorflow:Skipping full serialization of Keras layer <object_detection.core.freezable_batch_norm.FreezableBatchNorm object at 0x7ed3d022c220>, because it is not built.\n",
            "W0128 01:07:50.716504 139452696941184 save_impl.py:66] Skipping full serialization of Keras layer <object_detection.core.freezable_batch_norm.FreezableBatchNorm object at 0x7ed3d022c220>, because it is not built.\n",
            "WARNING:tensorflow:Skipping full serialization of Keras layer <keras.src.layers.core.lambda_layer.Lambda object at 0x7ed3d022e3e0>, because it is not built.\n",
            "W0128 01:07:50.716575 139452696941184 save_impl.py:66] Skipping full serialization of Keras layer <keras.src.layers.core.lambda_layer.Lambda object at 0x7ed3d022e3e0>, because it is not built.\n",
            "WARNING:tensorflow:Skipping full serialization of Keras layer <object_detection.core.freezable_batch_norm.FreezableBatchNorm object at 0x7ed3d022ce50>, because it is not built.\n",
            "W0128 01:07:50.716633 139452696941184 save_impl.py:66] Skipping full serialization of Keras layer <object_detection.core.freezable_batch_norm.FreezableBatchNorm object at 0x7ed3d022ce50>, because it is not built.\n",
            "WARNING:tensorflow:Skipping full serialization of Keras layer <keras.src.layers.core.lambda_layer.Lambda object at 0x7ed3d022e080>, because it is not built.\n",
            "W0128 01:07:50.813030 139452696941184 save_impl.py:66] Skipping full serialization of Keras layer <keras.src.layers.core.lambda_layer.Lambda object at 0x7ed3d022e080>, because it is not built.\n",
            "I0128 01:08:01.863034 139452696941184 save.py:289] Found untraced functions such as WeightSharedConvolutionalBoxPredictor_layer_call_fn, WeightSharedConvolutionalBoxPredictor_layer_call_and_return_conditional_losses, WeightSharedConvolutionalBoxHead_layer_call_fn, WeightSharedConvolutionalBoxHead_layer_call_and_return_conditional_losses, WeightSharedConvolutionalClassHead_layer_call_fn while saving (showing 5 of 173). These functions will not be directly callable after loading.\n",
            "INFO:tensorflow:Assets written to: /content/drive/MyDrive/Models/golf-ssd-640/inference/model-3-28k-steps/saved_model/assets\n",
            "I0128 01:08:07.957571 139452696941184 builder_impl.py:801] Assets written to: /content/drive/MyDrive/Models/golf-ssd-640/inference/model-3-28k-steps/saved_model/assets\n",
            "I0128 01:08:08.375800 139452696941184 fingerprinting_utils.py:49] Writing fingerprint to /content/drive/MyDrive/Models/golf-ssd-640/inference/model-3-28k-steps/saved_model/fingerprint.pb\n",
            "INFO:tensorflow:Writing pipeline config file to /content/drive/MyDrive/Models/golf-ssd-640/inference/model-3-28k-steps/pipeline.config\n",
            "I0128 01:08:08.919141 139452696941184 config_util.py:253] Writing pipeline config file to /content/drive/MyDrive/Models/golf-ssd-640/inference/model-3-28k-steps/pipeline.config\n"
          ]
        }
      ],
      "source": [
        "# export the model:\n",
        "!python exporter_main_v2.py \\\n",
        "    --trained_checkpoint_dir=/content/drive/MyDrive/Models/golf-ssd-640/training/model-checkpoint-storage \\\n",
        "    --pipeline_config_path=/content/drive/MyDrive/Models/golf-ssd-640/ssd_mobilenet_v2_fpnlite_640x640_coco17_tpu-8.config \\\n",
        "    --output_directory /content/drive/MyDrive/Models/golf-ssd-640/inference/model-3-28k-steps"
      ]
    },
    {
      "cell_type": "code",
      "execution_count": null,
      "metadata": {
        "id": "88XTsGcIwrVh"
      },
      "outputs": [],
      "source": []
    }
  ],
  "metadata": {
    "accelerator": "GPU",
    "colab": {
      "machine_shape": "hm",
      "provenance": [],
      "gpuType": "V100"
    },
    "kernelspec": {
      "display_name": "Python 3",
      "name": "python3"
    },
    "language_info": {
      "name": "python"
    }
  },
  "nbformat": 4,
  "nbformat_minor": 0
}